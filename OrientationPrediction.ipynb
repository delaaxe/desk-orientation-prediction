{
 "cells": [
  {
   "cell_type": "code",
   "execution_count": 1,
   "metadata": {},
   "outputs": [],
   "source": [
    "import pathlib\n",
    "\n",
    "import numpy as np\n",
    "import pandas as pd\n",
    "import sklearn.ensemble\n",
    "import networkx as nx\n",
    "import matplotlib.pyplot as plt\n",
    "import seaborn as sns"
   ]
  },
  {
   "cell_type": "code",
   "execution_count": 2,
   "metadata": {},
   "outputs": [],
   "source": [
    "%matplotlib inline"
   ]
  },
  {
   "cell_type": "code",
   "execution_count": 3,
   "metadata": {},
   "outputs": [],
   "source": [
    "def oriented_neighbors(x, direction, axis):\n",
    "    xp = np.pad(x, 1)\n",
    "    neighbors = (xp + np.roll(xp, direction, axis=axis))[1:-1, 1:-1] == 2\n",
    "    index = np.roll(neighbors, -direction, axis=axis)\n",
    "    return index.flatten(), neighbors.flatten()"
   ]
  },
  {
   "cell_type": "code",
   "execution_count": 4,
   "metadata": {},
   "outputs": [],
   "source": [
    "def plane_to_adjacency(x):\n",
    "    adj = np.zeros((x.size, x.size))\n",
    "    for direction, axis in [(1, 0), (-1, 0), (1, 1), (-1, 1)]:\n",
    "        index, neighbors = oriented_neighbors(x, direction, axis)\n",
    "        adj[index, neighbors] = 1\n",
    "    return adj"
   ]
  },
  {
   "cell_type": "code",
   "execution_count": 5,
   "metadata": {},
   "outputs": [],
   "source": [
    "def only_center_island(x):\n",
    "    adjacency_matrix = plane_to_adjacency(x)\n",
    "    graph = nx.from_numpy_matrix(adjacency_matrix)\n",
    "    center = x.size // 2\n",
    "    island = list(next(component for component in nx.connected_components(graph) if center in component))\n",
    "    features = np.zeros(x.size, dtype=x.dtype)\n",
    "    features[island] = 1\n",
    "    return features.reshape(x.shape)"
   ]
  },
  {
   "cell_type": "code",
   "execution_count": 6,
   "metadata": {},
   "outputs": [
    {
     "data": {
      "text/plain": [
       "<matplotlib.axes._subplots.AxesSubplot at 0x11b0dd828>"
      ]
     },
     "execution_count": 6,
     "metadata": {},
     "output_type": "execute_result"
    },
    {
     "data": {
      "image/png": "[encoded data removed]",
      "text/plain": [
       "<Figure size 432x288 with 2 Axes>"
      ]
     },
     "metadata": {},
     "output_type": "display_data"
    }
   ],
   "source": [
    "x = np.array([\n",
    "    [0, 0, 0, 0, 0],\n",
    "    [1, 0, 0, 1, 1],\n",
    "    [1, 0, 1, 1, 1],\n",
    "    [0, 0, 0, 0, 0],\n",
    "    [1, 0, 1, 1, 0],\n",
    "])\n",
    "sns.heatmap(x)"
   ]
  },
  {
   "cell_type": "code",
   "execution_count": 7,
   "metadata": {},
   "outputs": [
    {
     "data": {
      "text/plain": [
       "<matplotlib.axes._subplots.AxesSubplot at 0x11fca7f28>"
      ]
     },
     "execution_count": 7,
     "metadata": {},
     "output_type": "execute_result"
    },
    {
     "data": {
      "image/png": "[encoded data removed]",
      "text/plain": [
       "<Figure size 432x288 with 2 Axes>"
      ]
     },
     "metadata": {},
     "output_type": "display_data"
    }
   ],
   "source": [
    "sns.heatmap(only_center_island(x))"
   ]
  },
  {
   "cell_type": "code",
   "execution_count": 8,
   "metadata": {},
   "outputs": [],
   "source": [
    "def print_desks(desks):\n",
    "    print(\"\\n\".join(\"\".join(line) for line in desks))"
   ]
  },
  {
   "cell_type": "code",
   "execution_count": 11,
   "metadata": {},
   "outputs": [],
   "source": [
    "text = pathlib.Path(\"dataset-train.txt\").read_text()\n",
    "desks_train = np.array([list(line) for line in text.splitlines()])\n",
    "desks_train = np.pad(desks_train, 2, constant_values=\".\")"
   ]
  },
  {
   "cell_type": "code",
   "execution_count": 12,
   "metadata": {},
   "outputs": [],
   "source": [
    "rotations = {\"N\": \"W\", \"E\": \"N\", \"S\": \"E\", \"W\": \"S\"}\n",
    "horizontal_flips = {\"N\": \"N\", \"E\": \"W\", \"S\": \"S\", \"W\": \"E\"}\n",
    "vertical_flips = {\"N\": \"S\", \"E\": \"E\", \"S\": \"N\", \"W\": \"W\"}\n",
    "\n",
    "\n",
    "def simple_features(j, i, presence):\n",
    "    return (\n",
    "        presence[j-1, i],\n",
    "        presence[j-1, i] and presence[j-2, i],\n",
    "        presence[j, i+1],\n",
    "        presence[j, i+1] and presence[j, i+2],\n",
    "        presence[j+1, i],\n",
    "        presence[j+1, i] and presence[j+2, i],\n",
    "        presence[j, i-1],\n",
    "        presence[j, i-1] and presence[j, i-2],\n",
    "    )\n",
    "\n",
    "\n",
    "def advanced_features(j, i, presence):\n",
    "    neighborhood = presence[j-2:j+3, i-2:i+3]\n",
    "    neighborhood = only_center_island(neighborhood)\n",
    "    return tuple(neighborhood.flatten())\n",
    "\n",
    "\n",
    "def augment_desks(desks):\n",
    "    \n",
    "    yield np.array([\n",
    "        [horizontal_flips.get(value, value) for value in row] for row in np.flip(desks, axis=1)\n",
    "    ])\n",
    "    \n",
    "    yield np.array([\n",
    "        [vertical_flips.get(value, value) for value in row] for row in np.flip(desks, axis=0)\n",
    "    ])\n",
    "    \n",
    "    \n",
    "    for n in range(4):\n",
    "        rotated_desks = desks\n",
    "        for i in range(n):\n",
    "            rotated_desks = np.array([\n",
    "                [rotations.get(value, value) for value in row] for row in np.rot90(rotated_desks)\n",
    "            ])\n",
    "        yield rotated_desks\n",
    "\n",
    "        \n",
    "def floor_features(desks, get_features):\n",
    "    def generate():\n",
    "        desk_presence = (desks != \".\").astype(int)\n",
    "        for (j, i), y_true in np.ndenumerate(desks):\n",
    "            if y_true == \".\":\n",
    "                continue\n",
    "\n",
    "            yield (j, i), get_features(j, i, desk_presence), y_true\n",
    "\n",
    "    coords, X, y = zip(*generate())\n",
    "    j, i = zip(*coords)\n",
    "    return (j, i), X, y\n",
    "\n",
    "\n",
    "def fit(desks, get_features):\n",
    "    model = {}\n",
    "    undecidable = set()\n",
    "    for augmented_desks in augment_desks(desks):\n",
    "        desk_presence = (augmented_desks != \".\").astype(int)\n",
    "        for (j, i), y_true in np.ndenumerate(augmented_desks):\n",
    "            if y_true == \".\":\n",
    "                continue\n",
    "            x_train = get_features(j, i, desk_presence)\n",
    "            try:\n",
    "                if model[x_train] != y_true:\n",
    "                    #print(pd.DataFrame(augmented_desks))\n",
    "                    undecidable.add(x_train)\n",
    "                    #print(f\"Different y's ({model[x_train]}, {y_true}) for same x ({x_train}) at ({j}, {i})\")\n",
    "                    del model[x_train]\n",
    "            except KeyError:\n",
    "                if x_train not in undecidable:\n",
    "                    model[x_train] = y_true\n",
    "    return model"
   ]
  },
  {
   "cell_type": "code",
   "execution_count": 13,
   "metadata": {},
   "outputs": [
    {
     "data": {
      "text/plain": [
       "24"
      ]
     },
     "execution_count": 13,
     "metadata": {},
     "output_type": "execute_result"
    }
   ],
   "source": [
    "simple_model = fit(desks_train, simple_features)\n",
    "len(simple_model)"
   ]
  },
  {
   "cell_type": "code",
   "execution_count": 14,
   "metadata": {},
   "outputs": [
    {
     "data": {
      "text/plain": [
       "90"
      ]
     },
     "execution_count": 14,
     "metadata": {},
     "output_type": "execute_result"
    }
   ],
   "source": [
    "intermediate_model = fit(desks_train, intermediate_features)\n",
    "len(intermediate_model)"
   ]
  },
  {
   "cell_type": "code",
   "execution_count": 15,
   "metadata": {},
   "outputs": [
    {
     "data": {
      "text/plain": [
       "126"
      ]
     },
     "execution_count": 15,
     "metadata": {},
     "output_type": "execute_result"
    }
   ],
   "source": [
    "advanced_model = fit(desks_train, advanced_features)\n",
    "len(advanced_model)"
   ]
  },
  {
   "cell_type": "code",
   "execution_count": 16,
   "metadata": {},
   "outputs": [],
   "source": [
    "def fit_clf(desks, get_features):\n",
    "    clf = sklearn.ensemble.RandomForestClassifier(n_estimators=100)\n",
    "\n",
    "    X, y = [], []\n",
    "    for augmented_desks in augment_desks(desks):\n",
    "        desk_presence = (augmented_desks != \".\").astype(int)\n",
    "\n",
    "        for (j, i), y_true in np.ndenumerate(augmented_desks):\n",
    "            if y_true == \".\":\n",
    "                continue\n",
    "                \n",
    "            X.append(get_features(j, i, desk_presence))\n",
    "            y.append(y_true)\n",
    "\n",
    "    clf.fit(X, y)\n",
    "    \n",
    "    return clf\n",
    "    \n",
    "\n",
    "ml_model = fit_clf(desks_train, advanced_features)"
   ]
  },
  {
   "cell_type": "code",
   "execution_count": 17,
   "metadata": {},
   "outputs": [],
   "source": [
    "text = pathlib.Path(\"dataset-test.txt\").read_text()\n",
    "original_desks = np.array([list(line) for line in text.splitlines()])\n",
    "original_desks = np.pad(original_desks, 2, constant_values=\".\")\n",
    "desks_test = np.concatenate((\n",
    "    original_desks,\n",
    "    np.flip(original_desks, axis=1),\n",
    "    np.flip(original_desks, axis=0),\n",
    "    np.rot90(np.rot90(original_desks)),\n",
    "), axis=1)\n",
    "desks_test_2 = np.concatenate((\n",
    "    np.rot90(original_desks),\n",
    "    np.rot90(np.rot90(np.rot90(original_desks))),\n",
    "), axis=0)"
   ]
  },
  {
   "cell_type": "code",
   "execution_count": 18,
   "metadata": {},
   "outputs": [],
   "source": [
    "def predict_orientation(desks, model_name):\n",
    "    desks_pred = np.array(desks)\n",
    "    if model_name == \"rf\":\n",
    "        coords, X, _ = floor_features(desks, advanced_features)\n",
    "        y_pred = ml_model.predict(X)\n",
    "        max_proba = ml_model.predict_proba(X).max(axis=1)\n",
    "        y_pred[max_proba < 0.85] = \"?\"\n",
    "    elif model_name == \"simple\":\n",
    "        coords, X, _ = floor_features(desks, simple_features)\n",
    "        y_pred = np.array([simple_model.get(x, \"?\") for x in X])\n",
    "    elif model_name == \"advanced\":\n",
    "        coords, X, _ = floor_features(desks, advanced_features)\n",
    "        y_pred = np.array([advanced_model.get(x, \"?\") for x in X])\n",
    "    elif model_name == \"combined\":\n",
    "        x_simple = simple_features(j, i, desk_presence_test)\n",
    "        x_advanced = advanced_features(j, i, desk_presence_test)\n",
    "        y_pred = simple_model.get(x_simple) or advanced_model.get(x_advanced)\n",
    "    desks_pred[coords] = y_pred\n",
    "    return desks_pred\n",
    "\n",
    "    \n",
    "for name in [\"simple\", \"advanced\", \"rf\"]:\n",
    "    desks_pred = predict_orientation(desks_test, name)[2:-2, 2:-2]\n",
    "    pathlib.Path(f\"pred-{name}.txt\").write_text(\"\\n\".join(\"\".join(line) for line in desks_pred))\n",
    "    desks_pred = predict_orientation(desks_test_2, name)[2:-2, 2:-2]\n",
    "    pathlib.Path(f\"pred-{name}-horizontal.txt\").write_text(\"\\n\".join(\"\".join(line) for line in desks_pred))"
   ]
  },
  {
   "cell_type": "code",
   "execution_count": null,
   "metadata": {},
   "outputs": [],
   "source": []
  },
  {
   "cell_type": "code",
   "execution_count": 10,
   "metadata": {},
   "outputs": [
    {
     "name": "stdout",
     "output_type": "stream",
     "text": [
      "/Users/axel/PycharmProjects/desk-orientation\n"
     ]
    }
   ],
   "source": [
    "cd desk-orientation"
   ]
  },
  {
   "cell_type": "code",
   "execution_count": null,
   "metadata": {},
   "outputs": [],
   "source": []
  }
 ],
 "metadata": {
  "kernelspec": {
   "display_name": "Python 3",
   "language": "python",
   "name": "python3"
  },
  "language_info": {
   "codemirror_mode": {
    "name": "ipython",
    "version": 3
   },
   "file_extension": ".py",
   "mimetype": "text/x-python",
   "name": "python",
   "nbconvert_exporter": "python",
   "pygments_lexer": "ipython3",
   "version": "3.6.0"
  }
 },
 "nbformat": 4,
 "nbformat_minor": 2
}

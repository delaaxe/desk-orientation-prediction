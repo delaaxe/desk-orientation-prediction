{
 "cells": [
  {
   "cell_type": "code",
   "execution_count": 2,
   "metadata": {},
   "outputs": [],
   "source": [
    "import pathlib\n",
    "\n",
    "import numpy as np\n",
    "import pandas as pd\n",
    "import sklearn.ensemble\n",
    "import networkx as nx\n",
    "import matplotlib.pyplot as plt\n",
    "import seaborn as sns"
   ]
  },
  {
   "cell_type": "code",
   "execution_count": 3,
   "metadata": {},
   "outputs": [],
   "source": [
    "%matplotlib inline"
   ]
  },
  {
   "cell_type": "code",
   "execution_count": 4,
   "metadata": {},
   "outputs": [],
   "source": [
    "def oriented_neighbors(x, direction, axis):\n",
    "    xp = np.pad(x, 1)\n",
    "    neighbors = (xp + np.roll(xp, direction, axis=axis))[1:-1, 1:-1] == 2\n",
    "    index = np.roll(neighbors, -direction, axis=axis)\n",
    "    return index.flatten(), neighbors.flatten()"
   ]
  },
  {
   "cell_type": "code",
   "execution_count": 5,
   "metadata": {},
   "outputs": [],
   "source": [
    "def plane_to_adjacency(x):\n",
    "    adj = np.zeros((x.size, x.size))\n",
    "    for direction, axis in [(1, 0), (-1, 0), (1, 1), (-1, 1)]:\n",
    "        index, neighbors = oriented_neighbors(x, direction, axis)\n",
    "        adj[index, neighbors] = 1\n",
    "    return adj"
   ]
  },
  {
   "cell_type": "code",
   "execution_count": 6,
   "metadata": {},
   "outputs": [],
   "source": [
    "def only_connected(x):\n",
    "    adjacency_matrix = plane_to_adjacency(x)\n",
    "    graph = nx.from_numpy_matrix(adjacency_matrix)\n",
    "    center = x.size // 2\n",
    "    connected = list(next(component for component in nx.connected_components(graph) if center in component))\n",
    "    features = np.zeros(x.size, dtype=x.dtype)\n",
    "    features[connected] = 1\n",
    "    return features.reshape(x.shape)"
   ]
  },
  {
   "cell_type": "code",
   "execution_count": 7,
   "metadata": {},
   "outputs": [
    {
     "data": {
      "text/plain": [
       "<matplotlib.axes._subplots.AxesSubplot at 0x11b2cf208>"
      ]
     },
     "execution_count": 7,
     "metadata": {},
     "output_type": "execute_result"
    },
    {
     "data": {
      "image/png": "[encoded data removed]",
      "text/plain": [
       "<Figure size 432x288 with 2 Axes>"
      ]
     },
     "metadata": {},
     "output_type": "display_data"
    }
   ],
   "source": [
    "x = np.array([\n",
    "    [0, 0, 0, 0, 0],\n",
    "    [1, 0, 0, 1, 1],\n",
    "    [1, 0, 1, 1, 1],\n",
    "    [0, 0, 0, 0, 0],\n",
    "    [1, 0, 1, 1, 0],\n",
    "])\n",
    "sns.heatmap(x)"
   ]
  },
  {
   "cell_type": "code",
   "execution_count": 10,
   "metadata": {},
   "outputs": [
    {
     "data": {
      "text/plain": [
       "<matplotlib.axes._subplots.AxesSubplot at 0x11a1b1828>"
      ]
     },
     "execution_count": 10,
     "metadata": {},
     "output_type": "execute_result"
    },
    {
     "data": {
      "image/png": "[encoded data removed]",
      "text/plain": [
       "<Figure size 432x288 with 2 Axes>"
      ]
     },
     "metadata": {},
     "output_type": "display_data"
    }
   ],
   "source": [
    "sns.heatmap(only_connected(x))"
   ]
  },
  {
   "cell_type": "code",
   "execution_count": 26,
   "metadata": {},
   "outputs": [],
   "source": [
    "arrows = {\"N\": \"↑\", \"E\": \"→\", \"S\": \"↓\", \"W\": \"←\"}\n",
    "\n",
    "def print_desks(desks):\n",
    "    print(\"\\n\".join(\"\".join(arrows.get(x, x) for x in line) for line in desks))\n",
    "\n",
    "def dump_floor(desks, *, path):\n",
    "    text = \"\\n\".join(\"\".join(arrows.get(x, x) for x in line) for line in desks_pred)\n",
    "    pathlib.Path(path).write_text(text)"
   ]
  },
  {
   "cell_type": "code",
   "execution_count": 12,
   "metadata": {},
   "outputs": [],
   "source": [
    "text = pathlib.Path(\"dataset-train.txt\").read_text()\n",
    "desks_train = np.array([list(line) for line in text.splitlines()])\n",
    "desks_train = np.pad(desks_train, 2, constant_values=\".\")"
   ]
  },
  {
   "cell_type": "code",
   "execution_count": 17,
   "metadata": {},
   "outputs": [],
   "source": [
    "rotations = {\"N\": \"W\", \"E\": \"N\", \"S\": \"E\", \"W\": \"S\"}\n",
    "horizontal_flips = {\"N\": \"N\", \"E\": \"W\", \"S\": \"S\", \"W\": \"E\"}\n",
    "vertical_flips = {\"N\": \"S\", \"E\": \"E\", \"S\": \"N\", \"W\": \"W\"}\n",
    "\n",
    "\n",
    "def simple_features(j, i, presence):\n",
    "    return (\n",
    "        presence[j-1, i],\n",
    "        presence[j-1, i] and presence[j-2, i],\n",
    "        presence[j, i+1],\n",
    "        presence[j, i+1] and presence[j, i+2],\n",
    "        presence[j+1, i],\n",
    "        presence[j+1, i] and presence[j+2, i],\n",
    "        presence[j, i-1],\n",
    "        presence[j, i-1] and presence[j, i-2],\n",
    "    )\n",
    "\n",
    "\n",
    "def advanced_features(j, i, presence):\n",
    "    neighborhood = presence[j-2:j+3, i-2:i+3]\n",
    "    neighborhood = only_connected(neighborhood)\n",
    "    return tuple(neighborhood.flatten())\n",
    "\n",
    "\n",
    "def augment_desks(desks):\n",
    "    for n in range(4):\n",
    "        rotated_desks = desks\n",
    "        for i in range(n):\n",
    "            rotated_desks = np.array([\n",
    "                [rotations.get(value, value) for value in row] for row in np.rot90(rotated_desks)\n",
    "            ])\n",
    "            \n",
    "        yield rotated_desks\n",
    "        \n",
    "        yield np.array([\n",
    "            [vertical_flips.get(value, value) for value in row] for row in np.flip(rotated_desks, axis=0)\n",
    "        ])\n",
    "        \n",
    "        \n",
    "def floor_features(desks, get_features):\n",
    "    def generate():\n",
    "        desk_presence = (desks != \".\").astype(int)\n",
    "        seen = set()\n",
    "        for (j, i), y_true in np.ndenumerate(desks):\n",
    "            if y_true == \".\":\n",
    "                continue\n",
    "\n",
    "            features = get_features(j, i, desk_presence)\n",
    "            \n",
    "            yield (j, i), features, y_true\n",
    "\n",
    "    coords, X, y = zip(*generate())\n",
    "    js, iss = zip(*coords)\n",
    "    \n",
    "    return (js, iss), X, y\n",
    "\n",
    "\n",
    "def fit(desks, get_features):\n",
    "    model = {}\n",
    "    undecidable = set()\n",
    "\n",
    "    for augmented_desks in augment_desks(desks):\n",
    "        _, X, y = floor_features(augmented_desks, get_features)\n",
    "        for x_train, y_true in zip(X, y):\n",
    "            try:\n",
    "                if model[x_train] != y_true:\n",
    "                    undecidable.add(x_train)\n",
    "                    del model[x_train]\n",
    "            except KeyError:\n",
    "                if x_train not in undecidable:\n",
    "                    model[x_train] = y_true\n",
    "\n",
    "    return model"
   ]
  },
  {
   "cell_type": "code",
   "execution_count": 18,
   "metadata": {},
   "outputs": [
    {
     "data": {
      "text/plain": [
       "24"
      ]
     },
     "execution_count": 18,
     "metadata": {},
     "output_type": "execute_result"
    }
   ],
   "source": [
    "simple_model = fit(desks_train, simple_features)\n",
    "len(simple_model)"
   ]
  },
  {
   "cell_type": "code",
   "execution_count": 19,
   "metadata": {},
   "outputs": [
    {
     "data": {
      "text/plain": [
       "152"
      ]
     },
     "execution_count": 19,
     "metadata": {},
     "output_type": "execute_result"
    }
   ],
   "source": [
    "advanced_model = fit(desks_train, advanced_features)\n",
    "len(advanced_model)"
   ]
  },
  {
   "cell_type": "code",
   "execution_count": null,
   "metadata": {},
   "outputs": [],
   "source": []
  },
  {
   "cell_type": "code",
   "execution_count": 32,
   "metadata": {},
   "outputs": [],
   "source": [
    "def fit_clf(desks):\n",
    "    X, y = [], []\n",
    "    for augmented_desks in augment_desks(desks):\n",
    "        _, X_train, y_train = floor_features(augmented_desks, advanced_features)\n",
    "        X += X_train\n",
    "        y += y_train\n",
    "        \n",
    "    clf = sklearn.ensemble.RandomForestClassifier()\n",
    "    clf.fit(X, y)\n",
    "    \n",
    "    return clf\n",
    "    \n",
    "\n",
    "ml_model = fit_clf(desks_train)"
   ]
  },
  {
   "cell_type": "code",
   "execution_count": 35,
   "metadata": {},
   "outputs": [],
   "source": [
    "text = pathlib.Path(\"dataset-test.txt\").read_text()\n",
    "original_desks = np.array([list(line) for line in text.splitlines()])\n",
    "original_desks = np.pad(original_desks, 2, constant_values=\".\")\n",
    "\n",
    "rotated = [\n",
    "    original_desks,\n",
    "    np.rot90(original_desks),\n",
    "    np.rot90(np.rot90(original_desks)),\n",
    "    np.rot90(np.rot90(np.rot90(original_desks))),\n",
    "]\n",
    "\n",
    "verticals = [\n",
    "    original_desks,\n",
    "    rotated[2],\n",
    "    np.flip(original_desks, axis=0),\n",
    "    np.flip(rotated[2], axis=0),\n",
    "]\n",
    "\n",
    "horizontals = [\n",
    "    rotated[1],\n",
    "    np.flip(rotated[1], axis=0),\n",
    "    rotated[3],\n",
    "    np.flip(rotated[3], axis=0),\n",
    "]\n",
    "\n",
    "desks_test = np.concatenate(verticals, axis=1)\n",
    "desks_test_2 = np.concatenate(horizontals, axis=0)"
   ]
  },
  {
   "cell_type": "code",
   "execution_count": 36,
   "metadata": {},
   "outputs": [],
   "source": [
    "def predict_orientation(desks, model_name):\n",
    "    desks_pred = np.array(desks)\n",
    "    if model_name == \"rf\":\n",
    "        coords, X, _ = floor_features(desks, advanced_features)\n",
    "        y_pred = ml_model.predict(X)\n",
    "        max_proba = ml_model.predict_proba(X).max(axis=1)\n",
    "        y_pred[max_proba < 0.85] = \"?\"\n",
    "    elif model_name == \"simple\":\n",
    "        coords, X, _ = floor_features(desks, simple_features)\n",
    "        y_pred = np.array([simple_model.get(x, \"?\") for x in X])\n",
    "    elif model_name == \"advanced\":\n",
    "        coords, X, _ = floor_features(desks, advanced_features)\n",
    "        y_pred = np.array([advanced_model.get(x, \"?\") for x in X])\n",
    "    elif model_name == \"combined\":\n",
    "        coords, X_simple, _ = floor_features(desks, simple_features)\n",
    "        _, X_advanced, _ = floor_features(desks, advanced_features)\n",
    "        y_pred = np.array([\n",
    "            simple_model.get(x_simple) or advanced_model.get(x_advanced) or \"?\"\n",
    "            for x_simple, x_advanced in zip(X_simple, X_advanced)\n",
    "        ])\n",
    "    desks_pred[coords] = y_pred\n",
    "    return desks_pred\n",
    "\n",
    "    \n",
    "for name in [\"simple\", \"advanced\", \"combined\", \"rf\"]:\n",
    "    desks_pred = predict_orientation(desks_test, name)[2:-2, 2:-2]\n",
    "    dump_floor(desks_pred, path=f\"pred-{name}.txt\")\n",
    "    desks_pred = predict_orientation(desks_test_2, name)[2:-2, 2:-2]\n",
    "    dump_floor(desks_pred, path=f\"pred-{name}-horizontal.txt\")"
   ]
  },
  {
   "cell_type": "code",
   "execution_count": null,
   "metadata": {},
   "outputs": [],
   "source": []
  },
  {
   "cell_type": "code",
   "execution_count": 1,
   "metadata": {},
   "outputs": [
    {
     "name": "stdout",
     "output_type": "stream",
     "text": [
      "/Users/axel/PycharmProjects/desk-orientation\n"
     ]
    }
   ],
   "source": [
    "cd desk-orientation"
   ]
  },
  {
   "cell_type": "code",
   "execution_count": 110,
   "metadata": {},
   "outputs": [
    {
     "data": {
      "image/png": "[encoded data removed]",
      "text/plain": [
       "<Figure size 864x648 with 12 Axes>"
      ]
     },
     "metadata": {},
     "output_type": "display_data"
    }
   ],
   "source": [
    "x = np.array([\n",
    "    [0, 1],\n",
    "    [1, 0],\n",
    "    [1, 0],\n",
    "    [0, 1],\n",
    "    [1, 0],\n",
    "    [1, 0],\n",
    "    [1, 0],\n",
    "    [1, 0],\n",
    "    [1, 0],\n",
    "    [1, 0],    \n",
    "])\n",
    "\n",
    "rotated = [\n",
    "    x,\n",
    "    np.rot90(x),\n",
    "    np.rot90(np.rot90(x)),\n",
    "    np.rot90(np.rot90(np.rot90(x))),\n",
    "]\n",
    "\n",
    "fig, axs = plt.subplots(3, 4, figsize=(12, 9))\n",
    "\n",
    "for i in range(4):    \n",
    "    axs[0][i].matshow(rotated[i])\n",
    "    axs[1][i].matshow(np.flip(rotated[i], axis=0))\n",
    "    axs[2][i].matshow(np.flip(rotated[i], axis=1))"
   ]
  },
  {
   "cell_type": "code",
   "execution_count": 121,
   "metadata": {},
   "outputs": [
    {
     "data": {
      "image/png": "[encoded data removed]",
      "text/plain": [
       "<Figure size 864x432 with 8 Axes>"
      ]
     },
     "metadata": {},
     "output_type": "display_data"
    }
   ],
   "source": [
    "verticals = [\n",
    "    x,\n",
    "    rotated[2],\n",
    "    np.flip(x, axis=0),\n",
    "    np.flip(rotated[2], axis=0),\n",
    "]\n",
    "\n",
    "horizontals = [\n",
    "    rotated[1],\n",
    "    np.flip(rotated[1], axis=0),\n",
    "    rotated[3],\n",
    "    np.flip(rotated[3], axis=0),\n",
    "]\n",
    "\n",
    "fig, axs = plt.subplots(2, 4, figsize=(12, 6))\n",
    "\n",
    "for i in range(4):\n",
    "    axs[0][i].matshow(horizontals[i])\n",
    "    axs[1][i].matshow(verticals[i])"
   ]
  },
  {
   "cell_type": "code",
   "execution_count": 156,
   "metadata": {},
   "outputs": [
    {
     "data": {
      "text/plain": [
       "(10, 10)"
      ]
     },
     "execution_count": 156,
     "metadata": {},
     "output_type": "execute_result"
    },
    {
     "data": {
      "image/png": "[encoded data removed]",
      "text/plain": [
       "<Figure size 518.4x288 with 1 Axes>"
      ]
     },
     "metadata": {},
     "output_type": "display_data"
    }
   ],
   "source": [
    "hs = np.concatenate(horizontals, axis=0)\n",
    "vs = np.concatenate(verticals, axis=1)\n",
    "pad_height = vs.shape[0] - hs.shape[0]\n",
    "hs = np.pad(hs, ((0, pad_height), (0, 0)))\n",
    "xs = np.concatenate((vs, hs), axis=1)\n",
    "plt.matshow(xs)"
   ]
  },
  {
   "cell_type": "code",
   "execution_count": 125,
   "metadata": {},
   "outputs": [
    {
     "data": {
      "text/plain": [
       "(10, 8)"
      ]
     },
     "execution_count": 125,
     "metadata": {},
     "output_type": "execute_result"
    }
   ],
   "source": [
    "vs.shape"
   ]
  },
  {
   "cell_type": "code",
   "execution_count": 102,
   "metadata": {},
   "outputs": [],
   "source": [
    "text = pathlib.Path(\"dataset-test.txt\").read_text()"
   ]
  },
  {
   "cell_type": "code",
   "execution_count": 104,
   "metadata": {},
   "outputs": [],
   "source": [
    "original_desks = np.array([list(line) for line in text.splitlines()])"
   ]
  },
  {
   "cell_type": "code",
   "execution_count": null,
   "metadata": {},
   "outputs": [],
   "source": []
  },
  {
   "cell_type": "code",
   "execution_count": null,
   "metadata": {},
   "outputs": [],
   "source": []
  }
 ],
 "metadata": {
  "kernelspec": {
   "display_name": "Python 3",
   "language": "python",
   "name": "python3"
  },
  "language_info": {
   "codemirror_mode": {
    "name": "ipython",
    "version": 3
   },
   "file_extension": ".py",
   "mimetype": "text/x-python",
   "name": "python",
   "nbconvert_exporter": "python",
   "pygments_lexer": "ipython3",
   "version": "3.6.0"
  }
 },
 "nbformat": 4,
 "nbformat_minor": 2
}

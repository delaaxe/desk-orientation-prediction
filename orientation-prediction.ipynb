{
 "cells": [
  {
   "cell_type": "markdown",
   "metadata": {},
   "source": [
    "# Desk orientation prediction"
   ]
  },
  {
   "cell_type": "code",
   "execution_count": 1,
   "metadata": {
    "collapsed": true
   },
   "outputs": [],
   "source": [
    "import pathlib  # since Python 3.4\n",
    "\n",
    "import numpy as np\n",
    "import networkx as nx\n",
    "import matplotlib.pyplot as plt\n",
    "import seaborn as sns\n",
    "import sklearn.ensemble\n",
    "\n",
    "%matplotlib inline"
   ]
  },
  {
   "cell_type": "markdown",
   "metadata": {},
   "source": [
    "We have the floor plan of some building represented on a 2d grid where Xs indicate desks:"
   ]
  },
  {
   "cell_type": "code",
   "execution_count": 20,
   "metadata": {},
   "outputs": [
    {
     "name": "stdout",
     "output_type": "stream",
     "text": [
      "............................\n",
      ".XXXX.XXXX..XX.XX..XX.XX.X..\n",
      ".XXXX.XXXX..XX.XX..XX.XX.XX.\n",
      "............XX.XX..XX.XX.XX.\n",
      ".XXXX.XXXX..XX.XX..XX.XX.XX.\n",
      ".XXXX.XXX...XX.XX..XX.XX..X.\n",
      "............................\n",
      "............................\n",
      ".XX.XX..XX.XX..X..XX......X.\n",
      ".XX.XX..XX.XX..X..XX........\n",
      ".XX.XX..XX.XX..X..XX..XX....\n",
      ".XX.XX..XX.XX..X..XX..XX.XX.\n",
      ".XX.XX..XX.XX..X..XX..XX.XX.\n",
      "............................\n",
      "\n"
     ]
    }
   ],
   "source": [
    "floor = pathlib.Path(\"dataset-example.txt\").read_text()\n",
    "print(floor)"
   ]
  },
  {
   "cell_type": "markdown",
   "metadata": {},
   "source": [
    "Our goal is to predict the orientation of each desk, in order to help with the implementation of sanitary measures like social distancing."
   ]
  },
  {
   "cell_type": "code",
   "execution_count": 23,
   "metadata": {},
   "outputs": [
    {
     "name": "stdout",
     "output_type": "stream",
     "text": [
      "                            \n",
      " ↓↓↓↓ ↓↓↓↓  →← →←  →← →← →  \n",
      " ↑↑↑↑ ↑↑↑↑  →← →←  →← →← →← \n",
      "            →← →←  →← →← →← \n",
      " ↓↓↓↓ ↓↓↓↓  →← →←  →← →← →← \n",
      " ↑↑↑↑ ↑↑↑   →← →←  →← →←  ← \n",
      "                            \n",
      "                            \n",
      " →← →←  →← →←  ?  →←      ? \n",
      " →← →←  →← →←  ?  →←        \n",
      " →← →←  →← →←  ?  →←  →←    \n",
      " →← →←  →← →←  ?  →←  →← ?? \n",
      " →← →←  →← →←  ?  →←  →← ?? \n",
      "                            \n"
     ]
    }
   ],
   "source": [
    "oriented_floor = predict(floor)\n",
    "print(oriented_floor)"
   ]
  },
  {
   "cell_type": "markdown",
   "metadata": {},
   "source": [
    "Certain desk configurations (single desk, line, square) can have multiple possible orientations so nothing should be predicted there (\"?\")."
   ]
  },
  {
   "cell_type": "markdown",
   "metadata": {},
   "source": [
    "The training set should be as minimal as possible. These are the only user-provided patterns:"
   ]
  },
  {
   "cell_type": "code",
   "execution_count": 19,
   "metadata": {},
   "outputs": [
    {
     "name": "stdout",
     "output_type": "stream",
     "text": [
      "         \n",
      "         \n",
      "  ↓↓↓    \n",
      "  ↑↑↑    \n",
      "         \n",
      "  ↓↓↓↓↓  \n",
      "  ↑↑↑↑↑  \n",
      "         \n",
      "  ↓      \n",
      "  ↑↑↑    \n",
      "         \n",
      "   ↓     \n",
      "  ↑↑↑    \n",
      "         \n",
      "   ↓↓    \n",
      "  ↑↑↑    \n",
      "         \n",
      "  ↓↓     \n",
      "   ↑↑    \n",
      "         \n",
      "  ↓↓↓↓   \n",
      "   ↑↑↑↑  \n",
      "         \n",
      "         \n"
     ]
    }
   ],
   "source": [
    "desks_train = parse_floor(pathlib.Path(\"dataset-train.txt\").read_text())\n",
    "print(format_desks(desks_train))"
   ]
  },
  {
   "cell_type": "markdown",
   "metadata": {},
   "source": [
    "## Approach 1: direct neighbors"
   ]
  },
  {
   "cell_type": "markdown",
   "metadata": {},
   "source": [
    "Features: presence of direct neighbors in each cardinal direction."
   ]
  },
  {
   "cell_type": "markdown",
   "metadata": {},
   "source": [
    "If same features can lead to different orientations, do not learn and mark the pattern as undecidable."
   ]
  },
  {
   "cell_type": "code",
   "execution_count": 3,
   "metadata": {
    "collapsed": true
   },
   "outputs": [],
   "source": [
    "def simple_features(j, i, presence: np.array):\n",
    "    north = presence[j-1, i]                     \n",
    "    north_north = presence[j-2, i]\n",
    "    east = presence[j, i+1]\n",
    "    east_east = presence[j, i+2]\n",
    "    south = presence[j+1, i]\n",
    "    south_south = presence[j+2, i]\n",
    "    west = presence[j, i-1]\n",
    "    west_west = presence[j, i-2]\n",
    "        \n",
    "    return (\n",
    "        north,\n",
    "        north and north_north,\n",
    "        east,\n",
    "        east and east_east,\n",
    "        south,\n",
    "        south and south_south,\n",
    "        west,\n",
    "        west and west_west,\n",
    "    )\n",
    "\n",
    "\n",
    "def fit(desks, get_features):\n",
    "    model = {}\n",
    "    undecidable = set()\n",
    "\n",
    "    augmented_desks = augment_desks(desks)\n",
    "    _, X, y = floor_features(augmented_desks, get_features)\n",
    "    \n",
    "    for x_train, y_true in zip(X, y):\n",
    "        try:\n",
    "            if model[x_train] != y_true:\n",
    "                undecidable.add(x_train)\n",
    "                del model[x_train]\n",
    "        except KeyError:\n",
    "            if x_train not in undecidable:\n",
    "                model[x_train] = y_true\n",
    "\n",
    "    return model"
   ]
  },
  {
   "cell_type": "code",
   "execution_count": 5,
   "metadata": {},
   "outputs": [
    {
     "data": {
      "text/plain": [
       "24"
      ]
     },
     "execution_count": 5,
     "metadata": {},
     "output_type": "execute_result"
    }
   ],
   "source": [
    "simple_model = fit(desks_train, simple_features)\n",
    "len(simple_model)"
   ]
  },
  {
   "cell_type": "markdown",
   "metadata": {},
   "source": [
    "Max model size is 2**8"
   ]
  },
  {
   "cell_type": "code",
   "execution_count": 6,
   "metadata": {},
   "outputs": [
    {
     "name": "stdout",
     "output_type": "stream",
     "text": [
      "XXX.XXXX.XXXXX.XXXXXX...\n",
      "XXX.XXXX.XXXXX.XXXXXX...\n",
      "........................\n",
      "XXXXXXX..XXXXXXXXXXXXXXX\n",
      "XXXXXXX..XXXXXXXXXXXXXXX\n",
      "........................\n",
      "XX..XXX..XXXX..XXXXXXXX.\n",
      "XXX.XXXX.XXXXX.XXXXXXXXX\n",
      "........................\n",
      "XX..XXX..XXXX..XXXXXXXX.\n",
      ".XX..XXX..XXXX..XXXXXXXX\n",
      "........................\n",
      "X.X..XX.X.XX.X.XX..XX.XX\n",
      "XXX.XXXXX.XXXXXXX.XXXXXX\n",
      "........................\n",
      "X...X....X.....X........\n",
      "XXX.XXXX.XXXXX.XXXXXX...\n",
      "........................\n",
      ".X...X....X.....X.......\n",
      "XXX.XXXX.XXXXX.XXXXXX...\n",
      "........................\n",
      ".X....X......X.....X...X\n",
      "XXX.XXXXX.XXXXXXX.XXXXXX\n",
      "........................\n",
      "........................\n",
      "........................\n",
      "XX....XX..X.X.X.X..XX.XX\n",
      "XX..X.......X.X.X..X...X\n",
      "......XXX.....X.X.......\n",
      "X.X.X.......X...X..X...X\n",
      "......XXXXX..X..X..XX.XX\n",
      "\n"
     ]
    }
   ],
   "source": [
    "floor_test = pathlib.Path(\"dataset-test.txt\").read_text()\n",
    "print(floor_test)"
   ]
  },
  {
   "cell_type": "code",
   "execution_count": 7,
   "metadata": {},
   "outputs": [
    {
     "name": "stdout",
     "output_type": "stream",
     "text": [
      "↓↓↓ ↓↓↓↓ ↓↓↓↓↓ ↓↓↓↓↓↓   \n",
      "↑↑↑ ↑↑↑↑ ↑↑↑↑↑ ↑↑↑↑↑↑   \n",
      "                        \n",
      "↓↓↓↓↓↓↓  ↓↓↓↓↓↓↓↓↓↓↓↓↓↓↓\n",
      "↑↑↑↑↑↑↑  ↑↑↑↑↑↑↑↑↑↑↑↑↑↑↑\n",
      "                        \n",
      "??  ↓↓↓  ↓↓↓↓  ↓↓↓↓↓↓↓↓ \n",
      "↑↑? ↑↑↑? ↑↑↑↑? ↑↑↑↑↑↑↑↑?\n",
      "                        \n",
      "??  ?↓↓  ?↓↓↓  ?↓↓↓↓↓↓↓ \n",
      " ??  ↑↑?  ↑↑↑?  ↑↑↑↑↑↑↑?\n",
      "                        \n",
      "? ?  ?? ? ?? ? ??  ?? ??\n",
      "↑?↑ ?↑↑?↑ ↑↑?↑?↑↑ ?↑↑?↑↑\n",
      "                        \n",
      "?   ?    ?     ?        \n",
      "↑?? ↑??? ↑???? ↑?????   \n",
      "                        \n",
      " ?   ?    ?     ?       \n",
      "?↑? ?↑?? ?↑??? ?↑????   \n",
      "                        \n",
      " ?    ?      ?     ?   ?\n",
      "?↑? ??↑?? ???↑??? ?↑???↑\n",
      "                        \n",
      "                        \n",
      "                        \n",
      "??    ??  ? ? ? ?  ?? ??\n",
      "??  ?       ? ? ?  ?   ?\n",
      "      ???     ? ?       \n",
      "? ? ?       ?   ?  ?   ?\n",
      "      ?????  ?  ?  ?? ??\n"
     ]
    }
   ],
   "source": [
    "print(predict(floor_test, model=\"simple\"))"
   ]
  },
  {
   "cell_type": "markdown",
   "metadata": {},
   "source": [
    "Correctly predicting common cases, some uncertainty on unusual ones. No false positives (bottom)."
   ]
  },
  {
   "cell_type": "markdown",
   "metadata": {},
   "source": [
    "Can we do better?"
   ]
  },
  {
   "cell_type": "markdown",
   "metadata": {},
   "source": [
    "## Approach 2: connected neighborhood"
   ]
  },
  {
   "cell_type": "markdown",
   "metadata": {},
   "source": [
    "Features: presence of desks in the same \"desk island\" in a 5x5 neighborhood."
   ]
  },
  {
   "cell_type": "markdown",
   "metadata": {},
   "source": [
    "We find the \"island\" by computing the connected components of the neighborhood's undirected graph."
   ]
  },
  {
   "cell_type": "markdown",
   "metadata": {},
   "source": [
    "To build the graph, we compute it's adjacency matrix by summing the neighborhood with shifted neighborhoods along the cardinal axes. Positions equal to 2 indicate adjacency."
   ]
  },
  {
   "cell_type": "code",
   "execution_count": 8,
   "metadata": {
    "collapsed": true
   },
   "outputs": [],
   "source": [
    "def neighbors_along_direction(x, direction, axis):\n",
    "    xp = np.pad(x, 1)\n",
    "    neighbors = (xp + np.roll(xp, direction, axis=axis))[1:-1, 1:-1] == 2\n",
    "    index = np.roll(neighbors, -direction, axis=axis)\n",
    "    return index.flatten(), neighbors.flatten()\n",
    "\n",
    "def plane_to_adjacency(x):\n",
    "    adjacency = np.zeros((x.size, x.size))\n",
    "    for direction, axis in [(1, 0), (-1, 0), (1, 1), (-1, 1)]:\n",
    "        index, neighbors = neighbors_along_direction(x, direction, axis)\n",
    "        adjacency[index, neighbors] = 1\n",
    "    return adjacency\n",
    "\n",
    "def only_connected(x):\n",
    "    adjacency_matrix = plane_to_adjacency(x)\n",
    "    graph = nx.from_numpy_matrix(adjacency_matrix)\n",
    "    center = x.size // 2\n",
    "    connected = list(next(component for component in nx.connected_components(graph) if center in component))\n",
    "    features = np.zeros(x.size, dtype=x.dtype)\n",
    "    features[connected] = 1\n",
    "    return features.reshape(x.shape)"
   ]
  },
  {
   "cell_type": "code",
   "execution_count": 9,
   "metadata": {},
   "outputs": [
    {
     "data": {
      "text/plain": [
       "<matplotlib.axes._subplots.AxesSubplot at 0x11de5b780>"
      ]
     },
     "execution_count": 9,
     "metadata": {},
     "output_type": "execute_result"
    },
    {
     "data": {
      "image/png": "[encoded data removed]",
      "text/plain": [
       "<Figure size 432x288 with 2 Axes>"
      ]
     },
     "metadata": {},
     "output_type": "display_data"
    }
   ],
   "source": [
    "example_neighborhood = np.array([\n",
    "    [0, 0, 0, 0, 0],\n",
    "    [1, 0, 0, 1, 1],\n",
    "    [1, 0, 1, 1, 1],\n",
    "    [0, 0, 0, 0, 0],\n",
    "    [1, 0, 1, 1, 1],\n",
    "])\n",
    "sns.heatmap(example_neighborhood)"
   ]
  },
  {
   "cell_type": "code",
   "execution_count": 10,
   "metadata": {},
   "outputs": [
    {
     "data": {
      "text/plain": [
       "<matplotlib.axes._subplots.AxesSubplot at 0x11deaeba8>"
      ]
     },
     "execution_count": 10,
     "metadata": {},
     "output_type": "execute_result"
    },
    {
     "data": {
      "image/png": "[encoded data removed]",
      "text/plain": [
       "<Figure size 432x288 with 2 Axes>"
      ]
     },
     "metadata": {},
     "output_type": "display_data"
    }
   ],
   "source": [
    "sns.heatmap(only_connected(example_neighborhood))"
   ]
  },
  {
   "cell_type": "code",
   "execution_count": 11,
   "metadata": {
    "collapsed": true
   },
   "outputs": [],
   "source": [
    "def advanced_features(j, i, presence):\n",
    "    neighborhood = presence[j-2:j+3, i-2:i+3]\n",
    "    neighborhood = only_connected(neighborhood)\n",
    "    return tuple(neighborhood.flatten())"
   ]
  },
  {
   "cell_type": "code",
   "execution_count": 12,
   "metadata": {},
   "outputs": [
    {
     "data": {
      "text/plain": [
       "152"
      ]
     },
     "execution_count": 12,
     "metadata": {},
     "output_type": "execute_result"
    }
   ],
   "source": [
    "advanced_model = fit(desks_train, advanced_features)\n",
    "len(advanced_model)"
   ]
  },
  {
   "cell_type": "markdown",
   "metadata": {},
   "source": [
    "Upper bound is 2**25 but much lower in practice because of connected nature"
   ]
  },
  {
   "cell_type": "code",
   "execution_count": 13,
   "metadata": {},
   "outputs": [
    {
     "name": "stdout",
     "output_type": "stream",
     "text": [
      "↓↓↓ ↓↓↓↓ ↓↓↓↓↓ ↓↓↓↓↓↓   \n",
      "↑↑↑ ↑↑↑↑ ↑↑↑↑↑ ↑↑↑↑↑↑   \n",
      "                        \n",
      "↓↓↓↓↓↓↓  ↓↓↓↓↓↓↓↓↓↓↓↓↓↓↓\n",
      "↑↑↑↑↑↑↑  ↑↑↑↑↑↑↑↑↑↑↑↑↑↑↑\n",
      "                        \n",
      "↓↓  ↓?↓  ↓↓?↓  ↓↓↓↓↓↓?↓ \n",
      "↑↑↑ ↑?↑↑ ↑↑?↑↑ ↑↑↑↑↑↑?↑↑\n",
      "                        \n",
      "↓↓  ↓??  ↓↓↓↓  ↓↓?↓↓↓?↓ \n",
      " ↑↑  ??↑  ↑↑↑↑  ↑?↑↑↑?↑↑\n",
      "                        \n",
      "? ?  ?? ? ↓? ? ?↓  ?? ?↓\n",
      "??? ↑???? ↑?????↑ ↑????↑\n",
      "                        \n",
      "↓   ↓    ↓     ↓        \n",
      "↑↑↑ ↑??? ↑???? ↑?????   \n",
      "                        \n",
      " ↓   ?    ?     ?       \n",
      "↑↑↑ ↑??↑ ↑???? ↑?????   \n",
      "                        \n",
      " ↓    ?      ?     ?   ↓\n",
      "↑↑↑ ↑???↑ ??????? ↑????↑\n",
      "                        \n",
      "                        \n",
      "                        \n",
      "??    ??  ? ? ? ?  ?? ??\n",
      "??  ?       ? ? ?  ?   ?\n",
      "      ???     ? ?       \n",
      "? ? ?       ?   ?  ?   ?\n",
      "      ?????  ?  ?  ?? ??\n"
     ]
    }
   ],
   "source": [
    "print(predict(floor_test, model=\"advanced\"))"
   ]
  },
  {
   "cell_type": "markdown",
   "metadata": {},
   "source": [
    "Learning in places where simple model can't, but perhaps surprisingly, unable to predict in places where simple model could because of non-exhaustiveness of training set. Both approaches complimentary. No false positives."
   ]
  },
  {
   "cell_type": "markdown",
   "metadata": {},
   "source": [
    "Can we do better ?"
   ]
  },
  {
   "cell_type": "markdown",
   "metadata": {},
   "source": [
    "## Approach 3: classification"
   ]
  },
  {
   "cell_type": "markdown",
   "metadata": {},
   "source": [
    "Same features as for approach 2."
   ]
  },
  {
   "cell_type": "code",
   "execution_count": 14,
   "metadata": {
    "collapsed": true
   },
   "outputs": [],
   "source": [
    "def fit_clf(desks):\n",
    "    augmented_desks = augment_desks(desks)\n",
    "    _, X, y = floor_features(augmented_desks, advanced_features)\n",
    "    clf = sklearn.ensemble.RandomForestClassifier()\n",
    "    clf.fit(X, y)\n",
    "    return clf\n",
    "\n",
    "clf_model = fit_clf(desks_train)"
   ]
  },
  {
   "cell_type": "code",
   "execution_count": 15,
   "metadata": {},
   "outputs": [
    {
     "name": "stdout",
     "output_type": "stream",
     "text": [
      "↓↓↓ ↓↓↓↓ ↓↓↓↓↓ ↓↓↓↓↓↓   \n",
      "↑↑↑ ↑↑↑↑ ↑↑↑↑↑ ↑↑↑↑↑↑   \n",
      "                        \n",
      "↓↓↓↓↓↓↓  ↓↓↓↓↓↓↓↓↓↓↓↓↓↓↓\n",
      "↑↑↑↑↑↑↑  ↑↑↑↑↑↑↑↑↑↑↑↑↑↑↑\n",
      "                        \n",
      "↓↓  ↓↓↓  ↓↓↓↓  ↓↓↓↓↓↓↓↓ \n",
      "↑↑↑ ↑↑↑↑ ↑↑↑↑↑ ↑↑↑↑↑↑↑↑↑\n",
      "                        \n",
      "↓↓  ↓↓↓  ↓↓↓↓  ↓↓↓↓↓↓↓↓ \n",
      " ↑↑  ↑↑↑  ↑↑↑↑  ↑↑↑↑↑↑↑↑\n",
      "                        \n",
      "↓ ↓  ↓↓ ↓ ↓↓ ↓ ↓↓  ↓↓ ↓↓\n",
      "↑↑↑ ↑↑↑↑↑ ↑↑↑↑↑↑↑ ↑↑↑↑↑↑\n",
      "                        \n",
      "↓   ↓    ↓     ↓        \n",
      "↑↑↑ ↑↑?? ↑↑??? ↑↑????   \n",
      "                        \n",
      " ↓   ↓    ↓     ↓       \n",
      "↑↑↑ ↑↑↑↑ ↑↑↑?? ↑↑↑???   \n",
      "                        \n",
      " ↓    ↓      ↓     ↓   ↓\n",
      "↑↑↑ ↑↑↑↑↑ ??↑↑↑?? ↑↑↑?↑↑\n",
      "                        \n",
      "                        \n",
      "                        \n",
      "??    ??  ? ? ? ?  ?? ??\n",
      "??  ?       ? ? ?  ?   ?\n",
      "      ???     ? ?       \n",
      "? ? ?       ?   ?  ?   ?\n",
      "      ?????  ?  ?  ?? ??\n"
     ]
    }
   ],
   "source": [
    "print(predict(floor_test, model=\"clf\"))"
   ]
  },
  {
   "cell_type": "markdown",
   "metadata": {},
   "source": [
    "Generalizes much better, still some uncertainty in some weird areas (probably best this way)."
   ]
  },
  {
   "cell_type": "markdown",
   "metadata": {},
   "source": [
    "Caveat: magic threshold of 0.85 to optimize for (max predicted probability), otherwise we get false positives in the bottom area."
   ]
  },
  {
   "cell_type": "code",
   "execution_count": null,
   "metadata": {},
   "outputs": [],
   "source": []
  },
  {
   "cell_type": "code",
   "execution_count": null,
   "metadata": {
    "collapsed": true
   },
   "outputs": [],
   "source": []
  },
  {
   "cell_type": "code",
   "execution_count": null,
   "metadata": {
    "collapsed": true
   },
   "outputs": [],
   "source": []
  },
  {
   "cell_type": "code",
   "execution_count": null,
   "metadata": {
    "collapsed": true
   },
   "outputs": [],
   "source": []
  },
  {
   "cell_type": "code",
   "execution_count": null,
   "metadata": {
    "collapsed": true
   },
   "outputs": [],
   "source": []
  },
  {
   "cell_type": "code",
   "execution_count": null,
   "metadata": {
    "collapsed": true
   },
   "outputs": [],
   "source": []
  },
  {
   "cell_type": "code",
   "execution_count": null,
   "metadata": {
    "collapsed": true
   },
   "outputs": [],
   "source": []
  },
  {
   "cell_type": "code",
   "execution_count": 24,
   "metadata": {
    "collapsed": true
   },
   "outputs": [],
   "source": [
    "orientation_formats = {\"N\": \"↑\", \"E\": \"→\", \"S\": \"↓\", \"W\": \"←\", \".\": \" \"}\n",
    "rotated_orientations = {\"N\": \"W\", \"E\": \"N\", \"S\": \"E\", \"W\": \"S\"}\n",
    "flipped_orientations = {\"N\": \"S\", \"E\": \"E\", \"S\": \"N\", \"W\": \"W\"}\n",
    "\n",
    "def format_desks(desks: np.array):\n",
    "    return \"\\n\".join(\"\".join(orientation_formats.get(x, x) for x in line) for line in desks)\n",
    "\n",
    "def parse_floor(floor: str):\n",
    "    desks = np.array([list(line) for line in floor.splitlines()])\n",
    "    return np.pad(desks, 2, constant_values=\".\")\n",
    "        \n",
    "def floor_features(desks, get_features):\n",
    "    def generate():\n",
    "        desk_presence = (desks != \".\").astype(int)\n",
    "        seen = set()\n",
    "        for (j, i), y_true in np.ndenumerate(desks):\n",
    "            if y_true == \".\":\n",
    "                continue\n",
    "\n",
    "            features = get_features(j, i, desk_presence)\n",
    "            \n",
    "            yield (j, i), features, y_true\n",
    "\n",
    "    coords, X, y = zip(*generate())\n",
    "    js, iss = zip(*coords)\n",
    "    \n",
    "    return (js, iss), X, y\n",
    "\n",
    "def rotate_desks(desks: np.array):\n",
    "    return np.array([[rotated_orientations.get(value, value) for value in row] for row in np.rot90(desks)])\n",
    "\n",
    "def flip_desks(desks: np.array):\n",
    "    return np.array([[flipped_orientations.get(value, value) for value in row] for row in np.flip(desks, axis=0)])\n",
    "\n",
    "def augment_desks(desks: np.array):\n",
    "    rotated = [\n",
    "        desks,\n",
    "        rotate_desks(desks),\n",
    "        rotate_desks(rotate_desks(desks)),\n",
    "        rotate_desks(rotate_desks(rotate_desks(desks))),\n",
    "    ]\n",
    "\n",
    "    verticals = np.concatenate([\n",
    "        desks,\n",
    "        rotated[2],\n",
    "        flip_desks(desks),\n",
    "        flip_desks(rotated[2]),\n",
    "    ], axis=1)\n",
    "    \n",
    "    horizontals = np.concatenate([\n",
    "        rotated[1],\n",
    "        flip_desks(rotated[1]),\n",
    "        rotated[3],\n",
    "        flip_desks(rotated[3]),\n",
    "    ], axis=0)\n",
    "    \n",
    "    height1, width1 = verticals.shape\n",
    "    height2, width2 = horizontals.shape\n",
    "    \n",
    "    horizontals = np.pad(horizontals, ((0, 0), (0, width1 - width2)), constant_values=\".\")\n",
    "\n",
    "    return np.concatenate((verticals, horizontals), axis=0)\n",
    "\n",
    "def predict_orientation(desks: np.array, model_name=\"clf\"):\n",
    "    desks_pred = np.array(desks)\n",
    "    if model_name == \"clf\":\n",
    "        coords, X, _ = floor_features(desks, advanced_features)\n",
    "        y_pred = clf_model.predict(X)\n",
    "        max_proba = clf_model.predict_proba(X).max(axis=1)\n",
    "        y_pred[max_proba < 0.85] = \"?\"\n",
    "    elif model_name == \"simple\":\n",
    "        coords, X, _ = floor_features(desks, simple_features)\n",
    "        y_pred = np.array([simple_model.get(x, \"?\") for x in X])\n",
    "    elif model_name == \"advanced\":\n",
    "        coords, X, _ = floor_features(desks, advanced_features)\n",
    "        y_pred = np.array([advanced_model.get(x, \"?\") for x in X])\n",
    "    elif model_name == \"combined\":\n",
    "        coords, X_simple, _ = floor_features(desks, simple_features)\n",
    "        _, X_advanced, _ = floor_features(desks, advanced_features)\n",
    "        y_pred = np.array([\n",
    "            simple_model.get(x_simple) or advanced_model.get(x_advanced) or \"?\"\n",
    "            for x_simple, x_advanced in zip(X_simple, X_advanced)\n",
    "        ])\n",
    "    desks_pred[coords] = y_pred\n",
    "    return desks_pred\n",
    "\n",
    "def predict(floor, model=\"clf\"):\n",
    "    desks = parse_floor(floor)\n",
    "    desks_pred = predict_orientation(desks, model)[2:-2, 2:-2]\n",
    "    return format_desks(desks_pred)"
   ]
  },
  {
   "cell_type": "code",
   "execution_count": 91,
   "metadata": {
    "collapsed": true
   },
   "outputs": [],
   "source": [
    "desks_test = parse_floor(pathlib.Path(\"dataset-test.txt\").read_text())\n",
    "desks_test = augment_desks(desks_test)\n",
    "\n",
    "for name in [\"simple\", \"advanced\", \"combined\", \"clf\"]:\n",
    "    desks_pred = predict_orientation(desks_test, name)[2:-2, 2:-2]\n",
    "    pred_format = format_desks(desks_pred)\n",
    "    pathlib.Path(f\"pred-{name}.txt\").write_text(pred_format)"
   ]
  },
  {
   "cell_type": "code",
   "execution_count": null,
   "metadata": {
    "collapsed": true
   },
   "outputs": [],
   "source": []
  },
  {
   "cell_type": "code",
   "execution_count": 74,
   "metadata": {},
   "outputs": [
    {
     "data": {
      "image/png": "[encoded data removed]",
      "text/plain": [
       "<Figure size 864x648 with 12 Axes>"
      ]
     },
     "metadata": {},
     "output_type": "display_data"
    }
   ],
   "source": [
    "x = np.array([\n",
    "    [0, 1],\n",
    "    [1, 0],\n",
    "    [1, 0],\n",
    "    [0, 1],\n",
    "    [1, 0],\n",
    "    [1, 0],\n",
    "    [1, 0],\n",
    "    [1, 0],\n",
    "    [1, 0],\n",
    "    [1, 0],    \n",
    "])\n",
    "\n",
    "rotated = [\n",
    "    x,\n",
    "    np.rot90(x),\n",
    "    np.rot90(np.rot90(x)),\n",
    "    np.rot90(np.rot90(np.rot90(x))),\n",
    "]\n",
    "\n",
    "fig, axs = plt.subplots(3, 4, figsize=(12, 9))\n",
    "\n",
    "for i in range(4):    \n",
    "    axs[0][i].matshow(rotated[i])\n",
    "    axs[1][i].matshow(np.flip(rotated[i], axis=0))\n",
    "    axs[2][i].matshow(np.flip(rotated[i], axis=1))"
   ]
  },
  {
   "cell_type": "code",
   "execution_count": 75,
   "metadata": {},
   "outputs": [
    {
     "data": {
      "image/png": "[encoded data removed]",
      "text/plain": [
       "<Figure size 864x432 with 8 Axes>"
      ]
     },
     "metadata": {},
     "output_type": "display_data"
    }
   ],
   "source": [
    "verticals = [\n",
    "    x,\n",
    "    rotated[2],\n",
    "    np.flip(x, axis=0),\n",
    "    np.flip(rotated[2], axis=0),\n",
    "]\n",
    "\n",
    "horizontals = [\n",
    "    rotated[1],\n",
    "    np.flip(rotated[1], axis=0),\n",
    "    rotated[3],\n",
    "    np.flip(rotated[3], axis=0),\n",
    "]\n",
    "\n",
    "fig, axs = plt.subplots(2, 4, figsize=(12, 6))\n",
    "\n",
    "for i in range(4):\n",
    "    axs[0][i].matshow(horizontals[i])\n",
    "    axs[1][i].matshow(verticals[i])"
   ]
  },
  {
   "cell_type": "code",
   "execution_count": null,
   "metadata": {
    "collapsed": true
   },
   "outputs": [],
   "source": []
  }
 ],
 "metadata": {
  "kernelspec": {
   "display_name": "Python 3",
   "language": "python",
   "name": "python3"
  },
  "language_info": {
   "codemirror_mode": {
    "name": "ipython",
    "version": 3
   },
   "file_extension": ".py",
   "mimetype": "text/x-python",
   "name": "python",
   "nbconvert_exporter": "python",
   "pygments_lexer": "ipython3",
   "version": "3.6.0"
  }
 },
 "nbformat": 4,
 "nbformat_minor": 2
}
